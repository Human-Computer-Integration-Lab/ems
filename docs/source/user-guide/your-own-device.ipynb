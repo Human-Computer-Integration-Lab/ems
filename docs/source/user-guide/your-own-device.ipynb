{
 "cells": [
  {
   "cell_type": "markdown",
   "source": [
    "# Creating Your Own Device"
   ],
   "metadata": {
    "collapsed": false
   }
  },
  {
   "cell_type": "code",
   "execution_count": 2,
   "outputs": [],
   "source": [
    "from ems.devices import Device"
   ],
   "metadata": {
    "collapsed": false,
    "ExecuteTime": {
     "end_time": "2024-05-22T04:11:33.963153Z",
     "start_time": "2024-05-22T04:11:33.954613Z"
    }
   }
  },
  {
   "cell_type": "markdown",
   "source": [
    "```{literalinclude} ../../../ems/devices/base.py\n",
    ":language: python\n",
    ":pyobject: Device\n",
    "```"
   ],
   "metadata": {
    "collapsed": false
   }
  },
  {
   "cell_type": "markdown",
   "source": [
    "## Customizing Device Configurations"
   ],
   "metadata": {
    "collapsed": false
   }
  },
  {
   "cell_type": "markdown",
   "source": [
    "### Intensity Configuration"
   ],
   "metadata": {
    "collapsed": false
   }
  },
  {
   "cell_type": "code",
   "execution_count": 5,
   "outputs": [],
   "source": [
    "from ems.devices import IntensityConfiguration"
   ],
   "metadata": {
    "collapsed": false,
    "ExecuteTime": {
     "end_time": "2024-05-22T04:21:50.154670Z",
     "start_time": "2024-05-22T04:21:50.149311Z"
    }
   }
  },
  {
   "cell_type": "markdown",
   "source": [
    "```{literalinclude} ../../../ems/devices/base.py\n",
    ":language: python\n",
    ":pyobject: IntensityConfiguration\n",
    "```"
   ],
   "metadata": {
    "collapsed": false
   }
  },
  {
   "cell_type": "markdown",
   "source": [
    "### Pulse Width Configuration"
   ],
   "metadata": {
    "collapsed": false
   }
  },
  {
   "cell_type": "code",
   "execution_count": 6,
   "outputs": [],
   "source": [
    "from ems.devices import PulseWidthConfiguration"
   ],
   "metadata": {
    "collapsed": false,
    "ExecuteTime": {
     "end_time": "2024-05-22T04:21:58.267366Z",
     "start_time": "2024-05-22T04:21:58.262320Z"
    }
   }
  },
  {
   "cell_type": "markdown",
   "source": [
    "```{literalinclude} ../../../ems/devices/base.py\n",
    ":language: python\n",
    ":pyobject: PulseWidthConfiguration\n",
    "```"
   ],
   "metadata": {
    "collapsed": false
   }
  },
  {
   "cell_type": "markdown",
   "source": [
    "### Channel Configuration"
   ],
   "metadata": {
    "collapsed": false
   }
  },
  {
   "cell_type": "code",
   "execution_count": 7,
   "outputs": [],
   "source": [
    "from ems.devices import ChannelConfiguration"
   ],
   "metadata": {
    "collapsed": false,
    "ExecuteTime": {
     "end_time": "2024-05-22T04:22:08.985078Z",
     "start_time": "2024-05-22T04:22:08.981356Z"
    }
   }
  },
  {
   "cell_type": "markdown",
   "source": [
    "```{literalinclude} ../../../ems/devices/base.py\n",
    ":language: python\n",
    ":pyobject: ChannelConfiguration\n",
    "```"
   ],
   "metadata": {
    "collapsed": false
   }
  },
  {
   "cell_type": "code",
   "execution_count": null,
   "outputs": [],
   "source": [],
   "metadata": {
    "collapsed": false
   }
  }
 ],
 "metadata": {
  "kernelspec": {
   "display_name": "Python 3",
   "language": "python",
   "name": "python3"
  },
  "language_info": {
   "codemirror_mode": {
    "name": "ipython",
    "version": 2
   },
   "file_extension": ".py",
   "mimetype": "text/x-python",
   "name": "python",
   "nbconvert_exporter": "python",
   "pygments_lexer": "ipython2",
   "version": "2.7.6"
  }
 },
 "nbformat": 4,
 "nbformat_minor": 0
}
